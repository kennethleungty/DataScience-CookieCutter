{
 "cells": [
  {
   "cell_type": "markdown",
   "id": "57da4057",
   "metadata": {},
   "source": [
    "Place all your notebooks within this folder.\n",
    "\n",
    "You can also create sub-folders to separate the experimental notebooks and production notebooks\n"
   ]
  }
 ],
 "metadata": {
  "kernelspec": {
   "display_name": "axa-2021-01",
   "language": "python",
   "name": "axa-2021-01"
  },
  "language_info": {
   "codemirror_mode": {
    "name": "ipython",
    "version": 3
   },
   "file_extension": ".py",
   "mimetype": "text/x-python",
   "name": "python",
   "nbconvert_exporter": "python",
   "pygments_lexer": "ipython3",
   "version": "3.8.10"
  }
 },
 "nbformat": 4,
 "nbformat_minor": 5
}
